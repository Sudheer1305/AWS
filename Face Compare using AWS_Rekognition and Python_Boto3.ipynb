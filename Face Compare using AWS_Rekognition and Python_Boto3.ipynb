{
 "cells": [
  {
   "cell_type": "markdown",
   "metadata": {},
   "source": [
    "###  Loading the required Libraries"
   ]
  },
  {
   "cell_type": "code",
   "execution_count": 1,
   "metadata": {},
   "outputs": [],
   "source": [
    "import boto3"
   ]
  },
  {
   "cell_type": "markdown",
   "metadata": {},
   "source": [
    "### Creating a function to compare faces of the images which are given locally from your storage."
   ]
  },
  {
   "cell_type": "code",
   "execution_count": 10,
   "metadata": {},
   "outputs": [],
   "source": [
    "def compare_faces_local(source_image, target_image):\n",
    "    client = boto3.client('rekognition')                    #Creating the client for accesing AWS-Rekognition\n",
    "    \n",
    "    response = client.compare_faces(SourceImage={'Bytes':source_image},    #Using the client we are comparing the faces\n",
    "                                    TargetImage={'Bytes':target_image},    #Storing the output into response \n",
    "                                    SimilarityThreshold = 80)              #setting the threshold similarity to 80, so that the similarity between the compared images should be atleast 80%\n",
    "    \n",
    "    face_matches = response['FaceMatches']      #If the input images are similar then only the FaceMatches will have some value\n",
    "    if face_matches:\n",
    "        for match in face_matches:\n",
    "            similarity = match['Similarity']    # Getting the Similarity value from the output and storing it.\n",
    "            print('Compared my image with aadhar image and the similarity is: ',similarity)\n",
    "    \n",
    "    else:                                       # If there is no similarity between the images then the else loop will run.\n",
    "        print('The compared images are not similar')\n",
    "            "
   ]
  },
  {
   "cell_type": "markdown",
   "metadata": {},
   "source": [
    "### The aws client which we created accepts only byte inputs, so we need to convert the images which we load from local computer into byte format."
   ]
  },
  {
   "cell_type": "code",
   "execution_count": 11,
   "metadata": {},
   "outputs": [],
   "source": [
    "with open('../Data/1.jpg', 'rb') as source:        # My Image\n",
    "    source_image = source.read()\n",
    "with open('../Data/aadhar.PNG', 'rb') as target:   # My AADHAR\n",
    "    target_image = target.read()\n",
    "with open('../Data/3.jpg', 'rb') as different:     # Different image\n",
    "    different_image = different.read()"
   ]
  },
  {
   "cell_type": "markdown",
   "metadata": {},
   "source": [
    "### Comparing my aadhar image with my image"
   ]
  },
  {
   "cell_type": "code",
   "execution_count": 12,
   "metadata": {},
   "outputs": [
    {
     "name": "stdout",
     "output_type": "stream",
     "text": [
      "Compared my image with aadhar image and the similarity is:  89.84275817871094\n"
     ]
    }
   ],
   "source": [
    "compare_faces_local(source_image, target_image)"
   ]
  },
  {
   "cell_type": "markdown",
   "metadata": {},
   "source": [
    "### Comparing my aadhar image with different image"
   ]
  },
  {
   "cell_type": "code",
   "execution_count": 13,
   "metadata": {},
   "outputs": [
    {
     "name": "stdout",
     "output_type": "stream",
     "text": [
      "The compared images are not similar\n"
     ]
    }
   ],
   "source": [
    "compare_faces_local(different_image, target_image)"
   ]
  },
  {
   "cell_type": "markdown",
   "metadata": {},
   "source": [
    "### Creating a function to compare faces of the images which are given from S3."
   ]
  },
  {
   "cell_type": "code",
   "execution_count": 16,
   "metadata": {},
   "outputs": [],
   "source": [
    "def compare_faces_from_S3(source, target, bucket):\n",
    "    client = boto3.client('rekognition')                 #Creating the client for accesing AWS-Rekognition.\n",
    "    \n",
    "    response = client.compare_faces(SourceImage={'S3Object':{            #Using the client we are comparing the faces.\n",
    "                                                    'Bucket':bucket,\n",
    "                                                    'Name': source}},\n",
    "                                    TargetImage={'S3Object':{\n",
    "                                                    'Bucket':bucket,\n",
    "                                                    'Name': target}},\n",
    "                                    SimilarityThreshold = 80)\n",
    "    face_matches = response['FaceMatches']\n",
    "    if face_matches:\n",
    "        for match in face_matches:\n",
    "            similarity = match['Similarity']\n",
    "            print('Compared my image with aadhar image and the similarity is: ',similarity)\n",
    "    else:\n",
    "        print('The compared images are not similar')"
   ]
  },
  {
   "cell_type": "markdown",
   "metadata": {},
   "source": [
    "### Names of the Images on S3"
   ]
  },
  {
   "cell_type": "code",
   "execution_count": 18,
   "metadata": {},
   "outputs": [],
   "source": [
    "source = '1.jpg'                 # My Image\n",
    "target = 'aadhar.PNG'            # MY AADHAR\n",
    "bucket = 'aws-bucket-sudheer'    # Bucket name in which all the images are stored\n",
    "different = '3.jpg'              # Different Image"
   ]
  },
  {
   "cell_type": "markdown",
   "metadata": {},
   "source": [
    "### Comparing my aadhar image with my image"
   ]
  },
  {
   "cell_type": "code",
   "execution_count": 19,
   "metadata": {},
   "outputs": [
    {
     "name": "stdout",
     "output_type": "stream",
     "text": [
      "Compared my image with aadhar image and the similarity is:  89.84275817871094\n"
     ]
    }
   ],
   "source": [
    "compare_faces_from_S3(source, target, bucket)"
   ]
  },
  {
   "cell_type": "markdown",
   "metadata": {},
   "source": [
    "### Comparing my aadhar image with different image"
   ]
  },
  {
   "cell_type": "code",
   "execution_count": 20,
   "metadata": {},
   "outputs": [
    {
     "name": "stdout",
     "output_type": "stream",
     "text": [
      "The compared images are not similar\n"
     ]
    }
   ],
   "source": [
    "compare_faces_from_S3(different, target, bucket)"
   ]
  },
  {
   "cell_type": "markdown",
   "metadata": {},
   "source": [
    "### Detecting Text in an image"
   ]
  },
  {
   "cell_type": "code",
   "execution_count": 51,
   "metadata": {},
   "outputs": [],
   "source": [
    "bucket = 'aws-bucket-sudheer'\n",
    "image = 'text-image.jpg'"
   ]
  },
  {
   "cell_type": "code",
   "execution_count": 52,
   "metadata": {},
   "outputs": [],
   "source": [
    "def detect_text(source_image, bucket):\n",
    "    client = boto3.client('rekognition')\n",
    "    response = client.detect_text( Image={'S3Object':{'Bucket': bucket, 'Name': source_image}})\n",
    "    detected_text = response['TextDetections']\n",
    "    for text in detected_text:\n",
    "        print(text['DetectedText'], ':', text['Confidence'])"
   ]
  },
  {
   "cell_type": "code",
   "execution_count": 53,
   "metadata": {},
   "outputs": [
    {
     "name": "stdout",
     "output_type": "stream",
     "text": [
      "\"You are never : 96.2001724243164\n",
      "too old to set : 99.85350036621094\n",
      "another goal : 99.9669418334961\n",
      "or to dream : 99.90499114990234\n",
      "a new dream.\" : 99.75172424316406\n",
      "C.S LEWIS : 99.41880798339844\n",
      "\"You : 88.64739227294922\n",
      "are : 99.98268127441406\n",
      "never : 99.97045135498047\n",
      "too : 99.92079162597656\n",
      "old : 99.88375854492188\n",
      "to : 99.92334747314453\n",
      "set : 99.68611907958984\n",
      "another : 99.97429656982422\n",
      "goal : 99.95958709716797\n",
      "or : 99.78819274902344\n",
      "to : 99.95048522949219\n",
      "dream : 99.97631072998047\n",
      "a : 99.8106918334961\n",
      "new : 99.65451049804688\n",
      "dream.\" : 99.78996276855469\n",
      "C.S : 99.00304412841797\n",
      "LEWIS : 99.83456420898438\n"
     ]
    }
   ],
   "source": [
    "detect_text(image,bucket)"
   ]
  },
  {
   "cell_type": "markdown",
   "metadata": {},
   "source": [
    "### Detecting Labels in an image"
   ]
  },
  {
   "cell_type": "code",
   "execution_count": 54,
   "metadata": {},
   "outputs": [],
   "source": [
    "bucket = 'aws-bucket-sudheer'\n",
    "image = 'image.jpg'"
   ]
  },
  {
   "cell_type": "code",
   "execution_count": 56,
   "metadata": {},
   "outputs": [],
   "source": [
    "def detect_label(source_image,bucket):\n",
    "    client = boto3.client('rekognition')\n",
    "    response = client.detect_labels(Image={'S3Object':{'Bucket': bucket, 'Name':source_image}}, MaxLabels = 5, MinConfidence = 95)\n",
    "    labels = response['Labels']\n",
    "    for label in labels:\n",
    "        print(label['Name'], ':' ,label['Confidence'] )"
   ]
  },
  {
   "cell_type": "code",
   "execution_count": 57,
   "metadata": {},
   "outputs": [
    {
     "name": "stdout",
     "output_type": "stream",
     "text": [
      "Person : 99.7618637084961\n",
      "Bus : 99.50344848632812\n",
      "Motorcycle : 99.28705596923828\n",
      "Car : 97.51861572265625\n",
      "Military Uniform : 96.37598419189453\n"
     ]
    }
   ],
   "source": [
    "detect_label(image, bucket)"
   ]
  },
  {
   "cell_type": "code",
   "execution_count": null,
   "metadata": {},
   "outputs": [],
   "source": []
  }
 ],
 "metadata": {
  "kernelspec": {
   "display_name": "Python 3",
   "language": "python",
   "name": "python3"
  },
  "language_info": {
   "codemirror_mode": {
    "name": "ipython",
    "version": 3
   },
   "file_extension": ".py",
   "mimetype": "text/x-python",
   "name": "python",
   "nbconvert_exporter": "python",
   "pygments_lexer": "ipython3",
   "version": "3.6.6"
  }
 },
 "nbformat": 4,
 "nbformat_minor": 2
}
